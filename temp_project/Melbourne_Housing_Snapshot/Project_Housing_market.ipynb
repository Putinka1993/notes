{
 "cells": [
  {
   "cell_type": "code",
   "execution_count": 1,
   "id": "d234e365-6e48-46f6-b0e4-76e26b767f1f",
   "metadata": {},
   "outputs": [],
   "source": [
    "import matplotlib.pyplot as plt\n",
    "import numpy as np\n",
    "import pandas as pd\n",
    "import seaborn as sns\n",
    "from matplotlib.ticker import AutoMinorLocator\n",
    "from matplotlib.gridspec import GridSpec\n",
    "from sklearn.datasets import load_iris"
   ]
  },
  {
   "cell_type": "code",
   "execution_count": 35,
   "id": "aee42ac9-752b-44e7-a65e-a4c553ca1552",
   "metadata": {},
   "outputs": [],
   "source": [
    "# улучшаем читаемость данных\n",
    "pd.set_option('display.float_format', lambda x: f'{x:,.2f}')\n",
    "# делаем единый стиль графиков\n",
    "sns.set(style='whitegrid', context='notebook')"
   ]
  },
  {
   "cell_type": "code",
   "execution_count": 3,
   "id": "006ae194-7ee6-44c0-8c9a-6a3e6deba29f",
   "metadata": {},
   "outputs": [],
   "source": [
    "# 01. Загрузка данных и быстрый взгляд\n",
    "# 02. Приведение типов, базовая чистка\n",
    "# 03. Анализ пропусков, заполнение\n",
    "# 04. Создание вспомогательных фичей\n",
    "# 05. Базовые описательные статистики (Stage 2)\n",
    "# 06. Выбросы: диагностика и фильтрация\n",
    "# 07. Корреляции и scatterplots (Stage 3, уже на очищенных данных)\n",
    "# 08. Локальный анализ по пригородам/регионам (Stage 4)\n",
    "# 09. Финальные выводы и гипотезы (Stage 5, текстом)\n",
    "# 10. (Опционально) Приложение: проверка устойчивости результатов (до/после чистки)"
   ]
  },
  {
   "cell_type": "code",
   "execution_count": 4,
   "id": "4c08faba-8de9-4859-bc82-75bf52f953f3",
   "metadata": {},
   "outputs": [],
   "source": [
    "# 01. Загрузка данных и быстрый взгляд"
   ]
  },
  {
   "cell_type": "code",
   "execution_count": 5,
   "id": "1efa37bc-f661-4f72-b53a-e3e22dd178ad",
   "metadata": {},
   "outputs": [],
   "source": [
    "# df_houses = pd.read_csv('/Users/vladislavlipkin/Downloads/melb_data.csv') # MAC OS\n",
    "df_houses = pd.read_csv(r'C:\\Users\\Incognitus\\Downloads\\melb_data.csv') # WINDOWS"
   ]
  },
  {
   "cell_type": "code",
   "execution_count": 6,
   "id": "280117d6-848a-41ad-9959-4139dca669ad",
   "metadata": {},
   "outputs": [
    {
     "name": "stdout",
     "output_type": "stream",
     "text": [
      "<class 'pandas.core.frame.DataFrame'>\n",
      "RangeIndex: 13580 entries, 0 to 13579\n",
      "Data columns (total 21 columns):\n",
      " #   Column         Non-Null Count  Dtype  \n",
      "---  ------         --------------  -----  \n",
      " 0   Suburb         13580 non-null  object \n",
      " 1   Address        13580 non-null  object \n",
      " 2   Rooms          13580 non-null  int64  \n",
      " 3   Type           13580 non-null  object \n",
      " 4   Price          13580 non-null  float64\n",
      " 5   Method         13580 non-null  object \n",
      " 6   SellerG        13580 non-null  object \n",
      " 7   Date           13580 non-null  object \n",
      " 8   Distance       13580 non-null  float64\n",
      " 9   Postcode       13580 non-null  float64\n",
      " 10  Bedroom2       13580 non-null  float64\n",
      " 11  Bathroom       13580 non-null  float64\n",
      " 12  Car            13518 non-null  float64\n",
      " 13  Landsize       13580 non-null  float64\n",
      " 14  BuildingArea   7130 non-null   float64\n",
      " 15  YearBuilt      8205 non-null   float64\n",
      " 16  CouncilArea    12211 non-null  object \n",
      " 17  Lattitude      13580 non-null  float64\n",
      " 18  Longtitude     13580 non-null  float64\n",
      " 19  Regionname     13580 non-null  object \n",
      " 20  Propertycount  13580 non-null  float64\n",
      "dtypes: float64(12), int64(1), object(8)\n",
      "memory usage: 2.2+ MB\n"
     ]
    }
   ],
   "source": [
    "# df_houses.head(10)\n",
    "# df_houses.shape\n",
    "df_houses.info()"
   ]
  },
  {
   "cell_type": "code",
   "execution_count": 7,
   "id": "10ffc30f-ec5e-4c99-b365-d711236c665e",
   "metadata": {},
   "outputs": [
    {
     "data": {
      "text/html": [
       "<div>\n",
       "<style scoped>\n",
       "    .dataframe tbody tr th:only-of-type {\n",
       "        vertical-align: middle;\n",
       "    }\n",
       "\n",
       "    .dataframe tbody tr th {\n",
       "        vertical-align: top;\n",
       "    }\n",
       "\n",
       "    .dataframe thead th {\n",
       "        text-align: right;\n",
       "    }\n",
       "</style>\n",
       "<table border=\"1\" class=\"dataframe\">\n",
       "  <thead>\n",
       "    <tr style=\"text-align: right;\">\n",
       "      <th></th>\n",
       "      <th>Suburb</th>\n",
       "      <th>Address</th>\n",
       "      <th>Rooms</th>\n",
       "      <th>Type</th>\n",
       "      <th>Price</th>\n",
       "      <th>Method</th>\n",
       "      <th>SellerG</th>\n",
       "      <th>Date</th>\n",
       "      <th>Distance</th>\n",
       "      <th>Postcode</th>\n",
       "      <th>...</th>\n",
       "      <th>Bathroom</th>\n",
       "      <th>Car</th>\n",
       "      <th>Landsize</th>\n",
       "      <th>BuildingArea</th>\n",
       "      <th>YearBuilt</th>\n",
       "      <th>CouncilArea</th>\n",
       "      <th>Lattitude</th>\n",
       "      <th>Longtitude</th>\n",
       "      <th>Regionname</th>\n",
       "      <th>Propertycount</th>\n",
       "    </tr>\n",
       "  </thead>\n",
       "  <tbody>\n",
       "    <tr>\n",
       "      <th>12094</th>\n",
       "      <td>Mulgrave</td>\n",
       "      <td>35 Bevis St</td>\n",
       "      <td>3</td>\n",
       "      <td>h</td>\n",
       "      <td>9,000,000.00</td>\n",
       "      <td>PI</td>\n",
       "      <td>Hall</td>\n",
       "      <td>29/07/2017</td>\n",
       "      <td>18.80</td>\n",
       "      <td>3,170.00</td>\n",
       "      <td>...</td>\n",
       "      <td>1.00</td>\n",
       "      <td>1.00</td>\n",
       "      <td>744.00</td>\n",
       "      <td>117.00</td>\n",
       "      <td>1,960.00</td>\n",
       "      <td>Monash</td>\n",
       "      <td>-37.93</td>\n",
       "      <td>145.16</td>\n",
       "      <td>South-Eastern Metropolitan</td>\n",
       "      <td>7,113.00</td>\n",
       "    </tr>\n",
       "    <tr>\n",
       "      <th>7692</th>\n",
       "      <td>Canterbury</td>\n",
       "      <td>49 Mangarra Rd</td>\n",
       "      <td>5</td>\n",
       "      <td>h</td>\n",
       "      <td>8,000,000.00</td>\n",
       "      <td>VB</td>\n",
       "      <td>Sotheby's</td>\n",
       "      <td>13/05/2017</td>\n",
       "      <td>9.00</td>\n",
       "      <td>3,126.00</td>\n",
       "      <td>...</td>\n",
       "      <td>5.00</td>\n",
       "      <td>4.00</td>\n",
       "      <td>2,079.00</td>\n",
       "      <td>464.30</td>\n",
       "      <td>1,880.00</td>\n",
       "      <td>Boroondara</td>\n",
       "      <td>-37.82</td>\n",
       "      <td>145.07</td>\n",
       "      <td>Southern Metropolitan</td>\n",
       "      <td>3,265.00</td>\n",
       "    </tr>\n",
       "    <tr>\n",
       "      <th>9575</th>\n",
       "      <td>Hawthorn</td>\n",
       "      <td>49 Lisson Gr</td>\n",
       "      <td>4</td>\n",
       "      <td>h</td>\n",
       "      <td>7,650,000.00</td>\n",
       "      <td>S</td>\n",
       "      <td>Abercromby's</td>\n",
       "      <td>17/06/2017</td>\n",
       "      <td>5.30</td>\n",
       "      <td>3,122.00</td>\n",
       "      <td>...</td>\n",
       "      <td>2.00</td>\n",
       "      <td>4.00</td>\n",
       "      <td>1,690.00</td>\n",
       "      <td>284.00</td>\n",
       "      <td>1,863.00</td>\n",
       "      <td>Boroondara</td>\n",
       "      <td>-37.83</td>\n",
       "      <td>145.03</td>\n",
       "      <td>Southern Metropolitan</td>\n",
       "      <td>11,308.00</td>\n",
       "    </tr>\n",
       "    <tr>\n",
       "      <th>3616</th>\n",
       "      <td>Kew</td>\n",
       "      <td>15 Barry St</td>\n",
       "      <td>6</td>\n",
       "      <td>h</td>\n",
       "      <td>6,500,000.00</td>\n",
       "      <td>S</td>\n",
       "      <td>Jellis</td>\n",
       "      <td>13/08/2016</td>\n",
       "      <td>5.60</td>\n",
       "      <td>3,101.00</td>\n",
       "      <td>...</td>\n",
       "      <td>6.00</td>\n",
       "      <td>3.00</td>\n",
       "      <td>1,334.00</td>\n",
       "      <td>365.00</td>\n",
       "      <td>1,890.00</td>\n",
       "      <td>Boroondara</td>\n",
       "      <td>-37.80</td>\n",
       "      <td>145.03</td>\n",
       "      <td>Southern Metropolitan</td>\n",
       "      <td>10,331.00</td>\n",
       "    </tr>\n",
       "    <tr>\n",
       "      <th>12557</th>\n",
       "      <td>Middle Park</td>\n",
       "      <td>136 Page St</td>\n",
       "      <td>5</td>\n",
       "      <td>h</td>\n",
       "      <td>6,400,000.00</td>\n",
       "      <td>S</td>\n",
       "      <td>Marshall</td>\n",
       "      <td>9/09/2017</td>\n",
       "      <td>3.00</td>\n",
       "      <td>3,206.00</td>\n",
       "      <td>...</td>\n",
       "      <td>2.00</td>\n",
       "      <td>1.00</td>\n",
       "      <td>553.00</td>\n",
       "      <td>308.00</td>\n",
       "      <td>1,920.00</td>\n",
       "      <td>NaN</td>\n",
       "      <td>-37.85</td>\n",
       "      <td>144.96</td>\n",
       "      <td>Southern Metropolitan</td>\n",
       "      <td>2,019.00</td>\n",
       "    </tr>\n",
       "  </tbody>\n",
       "</table>\n",
       "<p>5 rows × 21 columns</p>\n",
       "</div>"
      ],
      "text/plain": [
       "            Suburb         Address  Rooms Type        Price Method  \\\n",
       "12094     Mulgrave     35 Bevis St      3    h 9,000,000.00     PI   \n",
       "7692    Canterbury  49 Mangarra Rd      5    h 8,000,000.00     VB   \n",
       "9575      Hawthorn    49 Lisson Gr      4    h 7,650,000.00      S   \n",
       "3616           Kew     15 Barry St      6    h 6,500,000.00      S   \n",
       "12557  Middle Park     136 Page St      5    h 6,400,000.00      S   \n",
       "\n",
       "            SellerG        Date  Distance  Postcode  ...  Bathroom  Car  \\\n",
       "12094          Hall  29/07/2017     18.80  3,170.00  ...      1.00 1.00   \n",
       "7692      Sotheby's  13/05/2017      9.00  3,126.00  ...      5.00 4.00   \n",
       "9575   Abercromby's  17/06/2017      5.30  3,122.00  ...      2.00 4.00   \n",
       "3616         Jellis  13/08/2016      5.60  3,101.00  ...      6.00 3.00   \n",
       "12557      Marshall   9/09/2017      3.00  3,206.00  ...      2.00 1.00   \n",
       "\n",
       "       Landsize  BuildingArea  YearBuilt  CouncilArea Lattitude  Longtitude  \\\n",
       "12094    744.00        117.00   1,960.00       Monash    -37.93      145.16   \n",
       "7692   2,079.00        464.30   1,880.00   Boroondara    -37.82      145.07   \n",
       "9575   1,690.00        284.00   1,863.00   Boroondara    -37.83      145.03   \n",
       "3616   1,334.00        365.00   1,890.00   Boroondara    -37.80      145.03   \n",
       "12557    553.00        308.00   1,920.00          NaN    -37.85      144.96   \n",
       "\n",
       "                       Regionname Propertycount  \n",
       "12094  South-Eastern Metropolitan      7,113.00  \n",
       "7692        Southern Metropolitan      3,265.00  \n",
       "9575        Southern Metropolitan     11,308.00  \n",
       "3616        Southern Metropolitan     10,331.00  \n",
       "12557       Southern Metropolitan      2,019.00  \n",
       "\n",
       "[5 rows x 21 columns]"
      ]
     },
     "execution_count": 7,
     "metadata": {},
     "output_type": "execute_result"
    }
   ],
   "source": [
    "# просмотр таблицы , топ 5 дорогих объектов\n",
    "df_houses.sort_values(by='Price', ascending=False).head(5)"
   ]
  },
  {
   "cell_type": "code",
   "execution_count": 8,
   "id": "580cb0fb-6ce9-4137-8141-1dea851085bb",
   "metadata": {},
   "outputs": [],
   "source": [
    "# 02. Приведение типов, базовая чистка"
   ]
  },
  {
   "cell_type": "code",
   "execution_count": 9,
   "id": "a5dfcedb-362c-4e85-85ba-938c6f160307",
   "metadata": {},
   "outputs": [],
   "source": [
    "# преобразовываем дату\n",
    "df_houses['Date'] = pd.to_datetime(df_houses['Date'], format='%d/%m/%Y', errors='coerce')\n",
    "\n",
    "# Строковые категории — в category (экономит память, удобнее группировать)\n",
    "cat_cols = ['Suburb', 'Type', 'Method', 'SellerG', 'CouncilArea', 'Regionname', 'Postcode']\n",
    "for c in cat_cols:\n",
    "    if c in df_houses.columns:\n",
    "        df_houses[c] = df_houses[c].astype('category')\n",
    "\n",
    "# Создадим копию сырых данных\n",
    "df_raw = df_houses.copy()"
   ]
  },
  {
   "cell_type": "code",
   "execution_count": 11,
   "id": "c150115d-2ffe-4512-9e62-e3bc6c2cfd3f",
   "metadata": {},
   "outputs": [],
   "source": [
    "# 03. Анализ пропусков, заполнение"
   ]
  },
  {
   "cell_type": "code",
   "execution_count": 13,
   "id": "2fa760da-d80c-43ca-9b75-ab70c3ec9a66",
   "metadata": {},
   "outputs": [
    {
     "data": {
      "text/plain": [
       "CouncilArea      1369\n",
       "Suburb              0\n",
       "Bathroom            0\n",
       "Regionname          0\n",
       "Longtitude          0\n",
       "Lattitude           0\n",
       "YearBuilt           0\n",
       "BuildingArea        0\n",
       "Landsize            0\n",
       "Car                 0\n",
       "Bedroom2            0\n",
       "Address             0\n",
       "Postcode            0\n",
       "Distance            0\n",
       "Date                0\n",
       "SellerG             0\n",
       "Method              0\n",
       "Price               0\n",
       "Type                0\n",
       "Rooms               0\n",
       "Propertycount       0\n",
       "dtype: int64"
      ]
     },
     "execution_count": 13,
     "metadata": {},
     "output_type": "execute_result"
    }
   ],
   "source": [
    "# найти пропущенные строки\n",
    "df_houses.isnull().sum().sort_values(ascending=False)"
   ]
  },
  {
   "cell_type": "code",
   "execution_count": 12,
   "id": "3f14e5a8-2453-4403-be41-27b5f7dfdf21",
   "metadata": {},
   "outputs": [
    {
     "name": "stderr",
     "output_type": "stream",
     "text": [
      "C:\\Users\\Incognitus\\AppData\\Local\\Temp\\ipykernel_2864\\4030824298.py:5: FutureWarning: The default of observed=False is deprecated and will be changed to True in a future version of pandas. Pass observed=False to retain current behavior or observed=True to adopt the future default and silence this warning.\n",
      "  df_houses[col] = df_houses[col].fillna(df_houses.groupby('Suburb')[col].transform('median'))\n"
     ]
    }
   ],
   "source": [
    "#  заполнение медианой сначала в Suburb, после в оставшихся NaN общей медианой по столбцу\n",
    "for col in ['BuildingArea', 'Landsize', 'YearBuilt', 'Car']:\n",
    "    if col in df_houses.columns:\n",
    "        # заполнение пустых ячеек по Suburb\n",
    "        df_houses[col] = df_houses[col].fillna(df_houses.groupby('Suburb')[col].transform('median'))\n",
    "        # страховка , заполнение по всему столбцу без группировки\n",
    "        df_houses[col] = df_houses[col].fillna(df_houses[col].median())"
   ]
  },
  {
   "cell_type": "code",
   "execution_count": 14,
   "id": "0e716626-cc6d-482f-ba1c-c958adb723b8",
   "metadata": {},
   "outputs": [],
   "source": [
    "# 04. Создание вспомогательных фичей"
   ]
  },
  {
   "cell_type": "code",
   "execution_count": 15,
   "id": "357204cc-5fbb-44c5-a849-142035d28f5a",
   "metadata": {},
   "outputs": [],
   "source": [
    "# сделать столбец стоимость (Price) более читаемым\n",
    "df_houses['price_mln'] = df_houses['Price'] / 1_000_000\n",
    "# бины по расстоянию для BOXPLOT\n",
    "df_houses['Distance_bin'] = pd.qcut(df_houses['Distance'], q=5, duplicates='drop')"
   ]
  },
  {
   "cell_type": "code",
   "execution_count": 17,
   "id": "bc12e518-a7e3-450b-9a21-c32a076679f7",
   "metadata": {},
   "outputs": [],
   "source": [
    "# 05. Базовые описательные статистики (Stage 2)\n",
    "# Средняя/медианная цена по регионам/пригородам/типам и т.д."
   ]
  },
  {
   "cell_type": "code",
   "execution_count": 18,
   "id": "eebc69b6-9c1e-4c00-93e9-6e4f0c7b3277",
   "metadata": {},
   "outputs": [
    {
     "name": "stderr",
     "output_type": "stream",
     "text": [
      "C:\\Users\\Incognitus\\AppData\\Local\\Temp\\ipykernel_2864\\1853917866.py:4: FutureWarning: The default of observed=False is deprecated and will be changed to True in a future version of pandas. Pass observed=False to retain current behavior or observed=True to adopt the future default and silence this warning.\n",
      "  df_houses.groupby('Regionname')['Price']\n"
     ]
    },
    {
     "data": {
      "text/html": [
       "<div>\n",
       "<style scoped>\n",
       "    .dataframe tbody tr th:only-of-type {\n",
       "        vertical-align: middle;\n",
       "    }\n",
       "\n",
       "    .dataframe tbody tr th {\n",
       "        vertical-align: top;\n",
       "    }\n",
       "\n",
       "    .dataframe thead th {\n",
       "        text-align: right;\n",
       "    }\n",
       "</style>\n",
       "<table border=\"1\" class=\"dataframe\">\n",
       "  <thead>\n",
       "    <tr style=\"text-align: right;\">\n",
       "      <th></th>\n",
       "      <th>Regionname</th>\n",
       "      <th>median_price</th>\n",
       "      <th>median_price_mln</th>\n",
       "    </tr>\n",
       "  </thead>\n",
       "  <tbody>\n",
       "    <tr>\n",
       "      <th>0</th>\n",
       "      <td>Southern Metropolitan</td>\n",
       "      <td>1,250,000.00</td>\n",
       "      <td>1.25</td>\n",
       "    </tr>\n",
       "    <tr>\n",
       "      <th>1</th>\n",
       "      <td>Eastern Metropolitan</td>\n",
       "      <td>1,010,000.00</td>\n",
       "      <td>1.01</td>\n",
       "    </tr>\n",
       "    <tr>\n",
       "      <th>2</th>\n",
       "      <td>South-Eastern Metropolitan</td>\n",
       "      <td>850,000.00</td>\n",
       "      <td>0.85</td>\n",
       "    </tr>\n",
       "    <tr>\n",
       "      <th>3</th>\n",
       "      <td>Northern Metropolitan</td>\n",
       "      <td>806,250.00</td>\n",
       "      <td>0.81</td>\n",
       "    </tr>\n",
       "    <tr>\n",
       "      <th>4</th>\n",
       "      <td>Western Metropolitan</td>\n",
       "      <td>793,000.00</td>\n",
       "      <td>0.79</td>\n",
       "    </tr>\n",
       "    <tr>\n",
       "      <th>5</th>\n",
       "      <td>Eastern Victoria</td>\n",
       "      <td>670,000.00</td>\n",
       "      <td>0.67</td>\n",
       "    </tr>\n",
       "    <tr>\n",
       "      <th>6</th>\n",
       "      <td>Northern Victoria</td>\n",
       "      <td>540,000.00</td>\n",
       "      <td>0.54</td>\n",
       "    </tr>\n",
       "    <tr>\n",
       "      <th>7</th>\n",
       "      <td>Western Victoria</td>\n",
       "      <td>400,000.00</td>\n",
       "      <td>0.40</td>\n",
       "    </tr>\n",
       "  </tbody>\n",
       "</table>\n",
       "</div>"
      ],
      "text/plain": [
       "                   Regionname  median_price  median_price_mln\n",
       "0       Southern Metropolitan  1,250,000.00              1.25\n",
       "1        Eastern Metropolitan  1,010,000.00              1.01\n",
       "2  South-Eastern Metropolitan    850,000.00              0.85\n",
       "3       Northern Metropolitan    806,250.00              0.81\n",
       "4        Western Metropolitan    793,000.00              0.79\n",
       "5            Eastern Victoria    670,000.00              0.67\n",
       "6           Northern Victoria    540,000.00              0.54\n",
       "7            Western Victoria    400,000.00              0.40"
      ]
     },
     "execution_count": 18,
     "metadata": {},
     "output_type": "execute_result"
    }
   ],
   "source": [
    "# 05.1\n",
    "# 05.1 — медиана по Regionname\n",
    "price_region = (\n",
    "    df_houses.groupby('Regionname')['Price']\n",
    "    .median()\n",
    "    .sort_values(ascending=False)\n",
    "    .rename('median_price')\n",
    "    .reset_index()\n",
    ")\n",
    "\n",
    "price_region['median_price_mln'] = price_region['median_price'] / 1_000_000\n",
    "price_region"
   ]
  },
  {
   "cell_type": "code",
   "execution_count": 20,
   "id": "02596a59-67b1-4723-9506-db7b6f9eba08",
   "metadata": {},
   "outputs": [
    {
     "name": "stderr",
     "output_type": "stream",
     "text": [
      "C:\\Users\\Incognitus\\AppData\\Local\\Temp\\ipykernel_2864\\4138098678.py:3: FutureWarning: The default of observed=False is deprecated and will be changed to True in a future version of pandas. Pass observed=False to retain current behavior or observed=True to adopt the future default and silence this warning.\n",
      "  df_houses.groupby('Suburb')['Price']\n"
     ]
    },
    {
     "data": {
      "text/html": [
       "<div>\n",
       "<style scoped>\n",
       "    .dataframe tbody tr th:only-of-type {\n",
       "        vertical-align: middle;\n",
       "    }\n",
       "\n",
       "    .dataframe tbody tr th {\n",
       "        vertical-align: top;\n",
       "    }\n",
       "\n",
       "    .dataframe thead th {\n",
       "        text-align: right;\n",
       "    }\n",
       "</style>\n",
       "<table border=\"1\" class=\"dataframe\">\n",
       "  <thead>\n",
       "    <tr style=\"text-align: right;\">\n",
       "      <th></th>\n",
       "      <th>Suburb</th>\n",
       "      <th>median_price</th>\n",
       "    </tr>\n",
       "  </thead>\n",
       "  <tbody>\n",
       "    <tr>\n",
       "      <th>0</th>\n",
       "      <td>Kooyong</td>\n",
       "      <td>2,185,000.00</td>\n",
       "    </tr>\n",
       "    <tr>\n",
       "      <th>1</th>\n",
       "      <td>Eaglemont</td>\n",
       "      <td>1,901,000.00</td>\n",
       "    </tr>\n",
       "    <tr>\n",
       "      <th>2</th>\n",
       "      <td>Albert Park</td>\n",
       "      <td>1,900,000.00</td>\n",
       "    </tr>\n",
       "    <tr>\n",
       "      <th>3</th>\n",
       "      <td>Canterbury</td>\n",
       "      <td>1,890,000.00</td>\n",
       "    </tr>\n",
       "    <tr>\n",
       "      <th>4</th>\n",
       "      <td>Middle Park</td>\n",
       "      <td>1,880,000.00</td>\n",
       "    </tr>\n",
       "    <tr>\n",
       "      <th>5</th>\n",
       "      <td>Balwyn</td>\n",
       "      <td>1,850,000.00</td>\n",
       "    </tr>\n",
       "    <tr>\n",
       "      <th>6</th>\n",
       "      <td>Brighton</td>\n",
       "      <td>1,773,500.00</td>\n",
       "    </tr>\n",
       "    <tr>\n",
       "      <th>7</th>\n",
       "      <td>Kew East</td>\n",
       "      <td>1,750,000.00</td>\n",
       "    </tr>\n",
       "    <tr>\n",
       "      <th>8</th>\n",
       "      <td>Ivanhoe East</td>\n",
       "      <td>1,740,000.00</td>\n",
       "    </tr>\n",
       "    <tr>\n",
       "      <th>9</th>\n",
       "      <td>Balwyn North</td>\n",
       "      <td>1,739,000.00</td>\n",
       "    </tr>\n",
       "  </tbody>\n",
       "</table>\n",
       "</div>"
      ],
      "text/plain": [
       "         Suburb  median_price\n",
       "0       Kooyong  2,185,000.00\n",
       "1     Eaglemont  1,901,000.00\n",
       "2   Albert Park  1,900,000.00\n",
       "3    Canterbury  1,890,000.00\n",
       "4   Middle Park  1,880,000.00\n",
       "5        Balwyn  1,850,000.00\n",
       "6      Brighton  1,773,500.00\n",
       "7      Kew East  1,750,000.00\n",
       "8  Ivanhoe East  1,740,000.00\n",
       "9  Balwyn North  1,739,000.00"
      ]
     },
     "execution_count": 20,
     "metadata": {},
     "output_type": "execute_result"
    }
   ],
   "source": [
    "# 05.2 — топ-10 пригородов по медианной цене\n",
    "price_suburb = (\n",
    "    df_houses.groupby('Suburb')['Price']\n",
    "    .median()\n",
    "    .sort_values(ascending=False)\n",
    "    .rename('median_price')\n",
    "    .reset_index()\n",
    ")\n",
    "top10_suburbs = price_suburb.head(10)\n",
    "top10_suburbs"
   ]
  },
  {
   "cell_type": "code",
   "execution_count": 23,
   "id": "db40e95d-1983-4eb5-ac92-7feb1d861ec8",
   "metadata": {},
   "outputs": [
    {
     "data": {
      "image/png": "[encoded data removed]",
      "text/plain": [
       "<Figure size 1800x600 with 3 Axes>"
      ]
     },
     "metadata": {},
     "output_type": "display_data"
    }
   ],
   "source": [
    "# 05.3. Визуализации распределений/boxplot\n",
    "\n",
    "# Создаём фигуру с тремя подграфиками в одном ряду\n",
    "fig, axes = plt.subplots(1, 3, figsize=(18, 6))\n",
    "\n",
    "# 05.3a — Boxplot: Price vs Rooms\n",
    "sns.boxplot(data=df_houses, x='Rooms', y='price_mln', ax=axes[0])\n",
    "axes[0].set_title('Price (mln) by Rooms')\n",
    "\n",
    "# 05.3b — Boxplot: Price vs Type\n",
    "sns.boxplot(data=df_houses, x='Type', y='price_mln', ax=axes[1])\n",
    "axes[1].set_title('Price (mln) by Type')\n",
    "\n",
    "# 05.3c — Boxplot: Price vs Distance bins\n",
    "sns.boxplot(data=df_houses, x='Distance_bin', y='price_mln', ax=axes[2])\n",
    "axes[2].set_title('Price (mln) by Distance bins')\n",
    "axes[2].tick_params(axis='x', rotation=45)\n",
    "\n",
    "plt.tight_layout()\n",
    "\n",
    "plt.show()"
   ]
  },
  {
   "cell_type": "code",
   "execution_count": 24,
   "id": "d163a16d-81b2-44bb-9502-0c6c3d0027b4",
   "metadata": {},
   "outputs": [],
   "source": [
    "# 06. Выбросы: диагностика и фильтрация"
   ]
  },
  {
   "cell_type": "code",
   "execution_count": 29,
   "id": "5456bfb4-115a-4f4a-9a5f-46b5e5e20a88",
   "metadata": {},
   "outputs": [
    {
     "name": "stdout",
     "output_type": "stream",
     "text": [
      "Выбросы по полю Rooms\n",
      "Rooms\n",
      "1      52\n",
      "2     149\n",
      "3     173\n",
      "4      95\n",
      "5      15\n",
      "6       4\n",
      "7       0\n",
      "8       0\n",
      "10      0\n",
      "Name: Price, dtype: int64\n",
      "\n",
      "Выбросы по полю Type\n",
      "Type\n",
      "h    430\n",
      "t     43\n",
      "u    127\n",
      "Name: Price, dtype: int64\n"
     ]
    },
    {
     "name": "stderr",
     "output_type": "stream",
     "text": [
      "C:\\Users\\Incognitus\\AppData\\Local\\Temp\\ipykernel_2864\\1105255076.py:13: FutureWarning: The default of observed=False is deprecated and will be changed to True in a future version of pandas. Pass observed=False to retain current behavior or observed=True to adopt the future default and silence this warning.\n",
      "  print(df_houses.groupby('Type')['Price'].apply(count_outliers_iqr))\n"
     ]
    }
   ],
   "source": [
    "# 06.1 — функция для подсчёта выбросов\n",
    "def count_outliers_iqr(series):\n",
    "    q1, q3 = series.quantile([0.25, 0.75])\n",
    "    iqr = q3 - q1\n",
    "    low = q1 - 1.5 * iqr\n",
    "    high = q3 + 1.5 * iqr\n",
    "    return ((series < low) | (series > high)).sum()\n",
    "\n",
    "print('Выбросы по полю Rooms')\n",
    "print(df_houses.groupby('Rooms')['Price'].apply(count_outliers_iqr))\n",
    "print('')\n",
    "print('Выбросы по полю Type')\n",
    "print(df_houses.groupby('Type')['Price'].apply(count_outliers_iqr))"
   ]
  },
  {
   "cell_type": "code",
   "execution_count": null,
   "id": "4066dc05-d951-487a-8f43-48c23a0b31d6",
   "metadata": {},
   "outputs": [],
   "source": [
    "# 06.2 — фильтруем “физически невозможные” и явные ошибки:\n"
   ]
  },
  {
   "cell_type": "code",
   "execution_count": 33,
   "id": "fef9e8a6-2c4b-4cc7-94ae-7b0a139d2033",
   "metadata": {},
   "outputs": [
    {
     "name": "stdout",
     "output_type": "stream",
     "text": [
      "отфильтрованный DF (11061, 23)\n",
      "изначальный DF (13580, 23)\n"
     ]
    }
   ],
   "source": [
    "# 06.2 — фильтруем “физически невозможные” и явные ошибки:\n",
    "# BuildingArea > 0, < 1000\n",
    "# Landsize > 0, BuildingArea < Landsize\n",
    "# Rooms > 0\n",
    "mask_valid = (\n",
    "    (df_houses['BuildingArea'].gt(0) & df_houses['BuildingArea'].lt(1000)) &\n",
    "    (df_houses['Landsize'].gt(0)) &\n",
    "    (df_houses['BuildingArea'] < df_houses['Landsize']) &\n",
    "    (df_houses['Rooms'] > 0)\n",
    ")\n",
    "\n",
    "df_clean = df_houses[mask_valid].copy()\n",
    "print(f'отфильтрованный DF {df_clean.shape}') \n",
    "print(f'изначальный DF {df_houses.shape}')"
   ]
  },
  {
   "cell_type": "code",
   "execution_count": 36,
   "id": "3a97332a-1661-4766-a30e-ed79d5191cf8",
   "metadata": {},
   "outputs": [],
   "source": [
    "# 07. Корреляции и scatterplots (Stage 3, на очищенных данных)"
   ]
  },
  {
   "cell_type": "code",
   "execution_count": null,
   "id": "37805d49-0cf0-43c0-b1d6-bf745fd5ee13",
   "metadata": {},
   "outputs": [],
   "source": []
  },
  {
   "cell_type": "code",
   "execution_count": 37,
   "id": "a1fef9cb-4f15-4186-99c2-119741f06778",
   "metadata": {},
   "outputs": [],
   "source": [
    "# IMHERE!"
   ]
  }
 ],
 "metadata": {
  "kernelspec": {
   "display_name": "Python 3 (ipykernel)",
   "language": "python",
   "name": "python3"
  },
  "language_info": {
   "codemirror_mode": {
    "name": "ipython",
    "version": 3
   },
   "file_extension": ".py",
   "mimetype": "text/x-python",
   "name": "python",
   "nbconvert_exporter": "python",
   "pygments_lexer": "ipython3",
   "version": "3.12.7"
  }
 },
 "nbformat": 4,
 "nbformat_minor": 5
}
